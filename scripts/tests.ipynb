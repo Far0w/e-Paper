{
 "cells": [
  {
   "cell_type": "code",
   "execution_count": null,
   "id": "ca714763",
   "metadata": {},
   "outputs": [],
   "source": [
    "import pandas as pd\n",
    "from dateutil import parser\n",
    "\n",
    "url = 'https://docs.google.com/spreadsheets/d/e/2PACX-1vRJtzo9q4NS01XynS0s6ic1da7o8sENcO_QCBlt9UbrKw24ltaRj0cdAKcRCSoG3j4-QdSvMJnxBb_i/pub?output=csv'\n",
    "\n",
    "colnames = ['date','event']\n",
    "\n",
    "df = pd.read_csv(url, names=colnames)\n",
    "\n",
    "events = [ [parser.parse(df.iloc[i].date), df.iloc[i].event] for i in range(len(df))]\n",
    "print(events)\n",
    "\n",
    "\n",
    "\n",
    "\n"
   ]
  },
  {
   "cell_type": "code",
   "execution_count": null,
   "id": "f236116d",
   "metadata": {},
   "outputs": [],
   "source": []
  },
  {
   "cell_type": "code",
   "execution_count": null,
   "id": "aa171c92",
   "metadata": {},
   "outputs": [],
   "source": [
    "from display import Rectangle\n",
    "\n",
    "rect1 = Rectangle(10,10,10,10)\n",
    "print(isinstance(rect1, Rectangle))"
   ]
  },
  {
   "cell_type": "code",
   "execution_count": null,
   "id": "20ef580d",
   "metadata": {},
   "outputs": [],
   "source": [
    "events[0][0].isocalendar().week"
   ]
  },
  {
   "cell_type": "code",
   "execution_count": null,
   "id": "f6ddb7be",
   "metadata": {},
   "outputs": [],
   "source": [
    "print((\"0\" + \"3\")[-2:])"
   ]
  },
  {
   "cell_type": "code",
   "execution_count": null,
   "id": "39f502bd",
   "metadata": {},
   "outputs": [],
   "source": [
    "from datetime import datetime as date\n",
    "date.today().strftime(\"%A %d %B\")"
   ]
  },
  {
   "cell_type": "code",
   "execution_count": null,
   "id": "012baa20",
   "metadata": {},
   "outputs": [],
   "source": [
    "print(\"Last update: {}/{}| {}.\".format(date.today().strftime(\"%d\"), date.today().strftime(\"%m\"), date.today().strftime(\"%R\")))"
   ]
  },
  {
   "cell_type": "code",
   "execution_count": null,
   "id": "5b9d5315",
   "metadata": {},
   "outputs": [],
   "source": []
  },
  {
   "cell_type": "code",
   "execution_count": null,
   "id": "01425bd0",
   "metadata": {},
   "outputs": [],
   "source": [
    "from weather import WeatherAPI\n",
    "\n",
    "API = WeatherAPI()\n",
    "\n",
    "API.request_data()"
   ]
  },
  {
   "cell_type": "code",
   "execution_count": 1,
   "id": "f0230019",
   "metadata": {},
   "outputs": [
    {
     "name": "stdout",
     "output_type": "stream",
     "text": [
      "{'coord': {'lon': 12.5655, 'lat': 55.6759}, 'weather': [{'id': 802, 'main': 'Clouds', 'description': 'scattered clouds', 'icon': '03d'}], 'base': 'stations', 'main': {'temp': 277.92, 'feels_like': 273.9, 'temp_min': 276.49, 'temp_max': 278.23, 'pressure': 1016, 'humidity': 69}, 'visibility': 10000, 'wind': {'speed': 5.66, 'deg': 300}, 'clouds': {'all': 40}, 'dt': 1676801011, 'sys': {'type': 2, 'id': 2035645, 'country': 'DK', 'sunrise': 1676787972, 'sunset': 1676823681}, 'timezone': 3600, 'id': 2618425, 'name': 'Copenhagen', 'cod': 200}\n",
      " Temperature : 4.8 \n",
      " atmospheric pressure (in hPa unit) = 1016 \n",
      " humidity (in percentage) = 69 \n",
      " description = scattered clouds\n"
     ]
    }
   ],
   "source": [
    "from weather import WeatherAPI\n",
    "\n",
    "API = WeatherAPI()\n",
    "\n",
    "API.request_data()"
   ]
  },
  {
   "cell_type": "code",
   "execution_count": null,
   "id": "bbef4d74",
   "metadata": {},
   "outputs": [],
   "source": [
    "api.openweathermap.org/data/2.5/forecast/daily?lat=44.34&lon=10.99&cnt=7&appid={API key}"
   ]
  },
  {
   "cell_type": "code",
   "execution_count": 5,
   "id": "42d72308",
   "metadata": {},
   "outputs": [
    {
     "ename": "SyntaxError",
     "evalue": "invalid syntax (3818175611.py, line 1)",
     "output_type": "error",
     "traceback": [
      "\u001b[1;36m  Cell \u001b[1;32mIn[5], line 1\u001b[1;36m\u001b[0m\n\u001b[1;33m    response = requests.get(api.openweathermap.org/data/2.5/forecast/daily?lat=44.34&lon=10.99&cnt=7&appid={API key})\u001b[0m\n\u001b[1;37m                                                                          ^\u001b[0m\n\u001b[1;31mSyntaxError\u001b[0m\u001b[1;31m:\u001b[0m invalid syntax\n"
     ]
    }
   ],
   "source": [
    "response = requests.get(api.openweathermap.org/data/2.5/forecast/daily?lat=44.34&lon=10.99&cnt=7&appid={API key})\n",
    "x = response.json()"
   ]
  },
  {
   "cell_type": "code",
   "execution_count": 18,
   "id": "4084c91a",
   "metadata": {},
   "outputs": [],
   "source": [
    "import requests\n",
    "import pandas as pd"
   ]
  },
  {
   "cell_type": "code",
   "execution_count": 10,
   "id": "a2af352d",
   "metadata": {},
   "outputs": [],
   "source": [
    "response = requests.get('http://api.openweathermap.org/data/2.5/forecast?lat=44.34&lon=10.99&appid=264308798c3239b2dc857702b9155206')\n",
    "x = response.json()"
   ]
  },
  {
   "cell_type": "code",
   "execution_count": null,
   "id": "d1b0a0f3",
   "metadata": {},
   "outputs": [],
   "source": [
    "print(x['list'])\n",
    "#df = pd.read_json('http://api.openweathermap.org/data/2.5/forecast?lat=44.34&lon=10.99&appid=264308798c3239b2dc857702b9155206')\n",
    "#print(type(x))\n",
    "#print(df.info)"
   ]
  },
  {
   "cell_type": "code",
   "execution_count": 28,
   "id": "83de024c",
   "metadata": {},
   "outputs": [
    {
     "name": "stdout",
     "output_type": "stream",
     "text": [
      "04\n"
     ]
    }
   ],
   "source": [
    "x = \"04n\"[:-1]\n",
    "print(x)"
   ]
  },
  {
   "cell_type": "code",
   "execution_count": 3,
   "id": "72821003",
   "metadata": {},
   "outputs": [
    {
     "name": "stdout",
     "output_type": "stream",
     "text": [
      "I cannot believe in a God who wants to be praised all the time.\n"
     ]
    }
   ],
   "source": [
    "from quote import cli as random_quote\n",
    "quoteText = random_quote.random_search(\"Nietzsche\")\n",
    "\n",
    "print(quoteText)"
   ]
  },
  {
   "cell_type": "code",
   "execution_count": 9,
   "id": "93182ac5",
   "metadata": {},
   "outputs": [
    {
     "name": "stdout",
     "output_type": "stream",
     "text": [
      "ok b c\n"
     ]
    }
   ],
   "source": [
    "a = \"ok\"\n",
    "\n",
    "a = a + \" b\" + \" c\"\n",
    "\n",
    "print(a)"
   ]
  },
  {
   "cell_type": "code",
   "execution_count": 11,
   "id": "8e66bb9f",
   "metadata": {},
   "outputs": [
    {
     "data": {
      "text/plain": [
       "1"
      ]
     },
     "execution_count": 11,
     "metadata": {},
     "output_type": "execute_result"
    }
   ],
   "source": [
    "201//200"
   ]
  },
  {
   "cell_type": "code",
   "execution_count": 3,
   "id": "45a6e0fa",
   "metadata": {},
   "outputs": [
    {
     "name": "stdout",
     "output_type": "stream",
     "text": [
      "Notion data sucessfully acquired.\n",
      "['Page test ', 'Tache 5', 'Page 3', 'Page 1']\n"
     ]
    }
   ],
   "source": [
    "import data_collection as dc\n",
    "import credentials\n",
    "\n",
    "Notion_data_collector = dc.NotionDataCollector(credentials.notion_API_key, credentials.notion_todolist_database_id)\n",
    "\n",
    "print(Notion_data_collector.download_todo_list())"
   ]
  },
  {
   "cell_type": "code",
   "execution_count": 20,
   "id": "8cc406a7",
   "metadata": {},
   "outputs": [
    {
     "name": "stdout",
     "output_type": "stream",
     "text": [
      "Tache 5\n",
      "Page 3\n",
      "Page 1\n",
      "Page 2\n"
     ]
    }
   ],
   "source": [
    "import json\n",
    "\n",
    "for i in range(len(a[\"results\"])):\n",
    "import r    print(a[\"results\"][i][\"properties\"][\"Name\"][\"title\"][0][\"text\"][\"content\"])"
   ]
  },
  {
   "cell_type": "code",
   "execution_count": 56,
   "id": "4aab5f2a",
   "metadata": {},
   "outputs": [
    {
     "name": "stdout",
     "output_type": "stream",
     "text": [
      "[['', '', ''], ['', '', ''], ['', '', ''], ['', '', '']]\n",
      "[['i', 'h', 'd'], ['j', 'k', 'f'], ['l', 'c', 'g'], ['m', 'a', 'e']]\n"
     ]
    }
   ],
   "source": [
    "import random as rd\n",
    "\n",
    "nb_lines = 4\n",
    "nb_columns = 3\n",
    "\n",
    "table = [ [\"\" for i in range(nb_columns)] for j in range(nb_lines) ]\n",
    "possible_positions = [[i//nb_columns, i%nb_columns] for i in range(nb_columns*nb_lines)] # create a list of possible solutions that will reduce when the loop is running (bc possible positions will less and less be available)\n",
    "tasks = [\"a\", \"b\", \"c\"]\n",
    "tasks = [\"a\", \"b\", \"c\", \"d\", \"e\", \"f\", \"g\", \"h\", \"i\", \"j\", \"k\", \"l\", \"m\", \"14\"]\n",
    "rd.shuffle(tasks)\n",
    "\n",
    "while len(tasks) > 0 and len(possible_positions) > 0:\n",
    "    element = tasks.pop()\n",
    "    position_taken = possible_positions.pop(rd.randint(0, len(possible_positions)-1))\n",
    "    line_index, col_index = position_taken[0], position_taken[1]\n",
    "    table[line_index][col_index] = element"
   ]
  },
  {
   "cell_type": "code",
   "execution_count": null,
   "id": "6d942b60",
   "metadata": {},
   "outputs": [],
   "source": [
    "for y in range(nb_lines):\n",
    "        for x in range(nb_columns):\n",
    "            task_to_display = table[y][x]\n",
    "            pos_x, pos_y = X + x*tile_width, Y + y*tile_height+icon_height+padding_icon"
   ]
  }
 ],
 "metadata": {
  "kernelspec": {
   "display_name": "Python 3 (ipykernel)",
   "language": "python",
   "name": "python3"
  },
  "language_info": {
   "codemirror_mode": {
    "name": "ipython",
    "version": 3
   },
   "file_extension": ".py",
   "mimetype": "text/x-python",
   "name": "python",
   "nbconvert_exporter": "python",
   "pygments_lexer": "ipython3",
   "version": "3.10.8"
  }
 },
 "nbformat": 4,
 "nbformat_minor": 5
}
