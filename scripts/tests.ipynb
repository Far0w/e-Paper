{
 "cells": [
  {
   "cell_type": "code",
   "execution_count": null,
   "id": "ca714763",
   "metadata": {},
   "outputs": [],
   "source": [
    "import pandas as pd\n",
    "from dateutil import parser\n",
    "\n",
    "url = 'https://docs.google.com/spreadsheets/d/e/2PACX-1vRJtzo9q4NS01XynS0s6ic1da7o8sENcO_QCBlt9UbrKw24ltaRj0cdAKcRCSoG3j4-QdSvMJnxBb_i/pub?output=csv'\n",
    "\n",
    "colnames = ['date','event']\n",
    "\n",
    "df = pd.read_csv(url, names=colnames)\n",
    "\n",
    "events = [ [parser.parse(df.iloc[i].date), df.iloc[i].event] for i in range(len(df))]\n",
    "print(events)\n",
    "\n",
    "\n",
    "\n",
    "\n"
   ]
  },
  {
   "cell_type": "code",
   "execution_count": null,
   "id": "aa171c92",
   "metadata": {},
   "outputs": [],
   "source": [
    "from display import Rectangle\n",
    "\n",
    "rect1 = Rectangle(10,10,10,10)\n",
    "print(isinstance(rect1, Rectangle))"
   ]
  },
  {
   "cell_type": "code",
   "execution_count": null,
   "id": "20ef580d",
   "metadata": {},
   "outputs": [],
   "source": [
    "events[0][0].isocalendar().week"
   ]
  },
  {
   "cell_type": "code",
   "execution_count": null,
   "id": "f6ddb7be",
   "metadata": {},
   "outputs": [],
   "source": [
    "print((\"0\" + \"3\")[-2:])"
   ]
  },
  {
   "cell_type": "code",
   "execution_count": null,
   "id": "39f502bd",
   "metadata": {},
   "outputs": [],
   "source": [
    "from datetime import datetime as date\n",
    "date.today().strftime(\"%A %d %B\")"
   ]
  },
  {
   "cell_type": "code",
   "execution_count": null,
   "id": "012baa20",
   "metadata": {},
   "outputs": [],
   "source": [
    "print(\"Last update: {}/{}| {}.\".format(date.today().strftime(\"%d\"), date.today().strftime(\"%m\"), date.today().strftime(\"%R\")))"
   ]
  },
  {
   "cell_type": "code",
   "execution_count": null,
   "id": "5b9d5315",
   "metadata": {},
   "outputs": [],
   "source": []
  },
  {
   "cell_type": "code",
   "execution_count": null,
   "id": "01425bd0",
   "metadata": {},
   "outputs": [],
   "source": [
    "from weather import WeatherAPI\n",
    "\n",
    "API = WeatherAPI()\n",
    "\n",
    "API.request_data()"
   ]
  },
  {
   "cell_type": "code",
   "execution_count": 1,
   "id": "f0230019",
   "metadata": {},
   "outputs": [
    {
     "name": "stdout",
     "output_type": "stream",
     "text": [
      "{'coord': {'lon': 12.5655, 'lat': 55.6759}, 'weather': [{'id': 802, 'main': 'Clouds', 'description': 'scattered clouds', 'icon': '03d'}], 'base': 'stations', 'main': {'temp': 277.92, 'feels_like': 273.9, 'temp_min': 276.49, 'temp_max': 278.23, 'pressure': 1016, 'humidity': 69}, 'visibility': 10000, 'wind': {'speed': 5.66, 'deg': 300}, 'clouds': {'all': 40}, 'dt': 1676801011, 'sys': {'type': 2, 'id': 2035645, 'country': 'DK', 'sunrise': 1676787972, 'sunset': 1676823681}, 'timezone': 3600, 'id': 2618425, 'name': 'Copenhagen', 'cod': 200}\n",
      " Temperature : 4.8 \n",
      " atmospheric pressure (in hPa unit) = 1016 \n",
      " humidity (in percentage) = 69 \n",
      " description = scattered clouds\n"
     ]
    }
   ],
   "source": [
    "from weather import WeatherAPI\n",
    "\n",
    "API = WeatherAPI()\n",
    "\n",
    "API.request_data()"
   ]
  },
  {
   "cell_type": "code",
   "execution_count": null,
   "id": "bbef4d74",
   "metadata": {},
   "outputs": [],
   "source": [
    "api.openweathermap.org/data/2.5/forecast/daily?lat=44.34&lon=10.99&cnt=7&appid={API key}"
   ]
  },
  {
   "cell_type": "code",
   "execution_count": 5,
   "id": "42d72308",
   "metadata": {},
   "outputs": [
    {
     "ename": "SyntaxError",
     "evalue": "invalid syntax (3818175611.py, line 1)",
     "output_type": "error",
     "traceback": [
      "\u001b[1;36m  Cell \u001b[1;32mIn[5], line 1\u001b[1;36m\u001b[0m\n\u001b[1;33m    response = requests.get(api.openweathermap.org/data/2.5/forecast/daily?lat=44.34&lon=10.99&cnt=7&appid={API key})\u001b[0m\n\u001b[1;37m                                                                          ^\u001b[0m\n\u001b[1;31mSyntaxError\u001b[0m\u001b[1;31m:\u001b[0m invalid syntax\n"
     ]
    }
   ],
   "source": [
    "response = requests.get(api.openweathermap.org/data/2.5/forecast/daily?lat=44.34&lon=10.99&cnt=7&appid={API key})\n",
    "x = response.json()"
   ]
  },
  {
   "cell_type": "code",
   "execution_count": 18,
   "id": "4084c91a",
   "metadata": {},
   "outputs": [],
   "source": [
    "import requests\n",
    "import pandas as pd"
   ]
  },
  {
   "cell_type": "code",
   "execution_count": 10,
   "id": "a2af352d",
   "metadata": {},
   "outputs": [],
   "source": [
    "response = requests.get('http://api.openweathermap.org/data/2.5/forecast?lat=44.34&lon=10.99&appid=264308798c3239b2dc857702b9155206')\n",
    "x = response.json()"
   ]
  },
  {
   "cell_type": "code",
   "execution_count": 27,
   "id": "d1b0a0f3",
   "metadata": {},
   "outputs": [
    {
     "name": "stdout",
     "output_type": "stream",
     "text": [
      "[{'dt': 1677088800, 'main': {'temp': 281.66, 'feels_like': 281.66, 'temp_min': 280.41, 'temp_max': 281.66, 'pressure': 1016, 'sea_level': 1016, 'grnd_level': 929, 'humidity': 79, 'temp_kf': 1.25}, 'weather': [{'id': 804, 'main': 'Clouds', 'description': 'overcast clouds', 'icon': '04n'}], 'clouds': {'all': 97}, 'wind': {'speed': 0.89, 'deg': 131, 'gust': 1.88}, 'visibility': 10000, 'pop': 0, 'sys': {'pod': 'n'}, 'dt_txt': '2023-02-22 18:00:00'}, {'dt': 1677099600, 'main': {'temp': 280.67, 'feels_like': 280.67, 'temp_min': 279.86, 'temp_max': 280.67, 'pressure': 1016, 'sea_level': 1016, 'grnd_level': 929, 'humidity': 82, 'temp_kf': 0.81}, 'weather': [{'id': 804, 'main': 'Clouds', 'description': 'overcast clouds', 'icon': '04n'}], 'clouds': {'all': 98}, 'wind': {'speed': 1.19, 'deg': 199, 'gust': 1.76}, 'visibility': 10000, 'pop': 0, 'sys': {'pod': 'n'}, 'dt_txt': '2023-02-22 21:00:00'}, {'dt': 1677110400, 'main': {'temp': 278.18, 'feels_like': 277.05, 'temp_min': 278.18, 'temp_max': 278.18, 'pressure': 1016, 'sea_level': 1016, 'grnd_level': 929, 'humidity': 88, 'temp_kf': 0}, 'weather': [{'id': 804, 'main': 'Clouds', 'description': 'overcast clouds', 'icon': '04n'}], 'clouds': {'all': 86}, 'wind': {'speed': 1.56, 'deg': 212, 'gust': 1.47}, 'visibility': 10000, 'pop': 0, 'sys': {'pod': 'n'}, 'dt_txt': '2023-02-23 00:00:00'}, {'dt': 1677121200, 'main': {'temp': 277.8, 'feels_like': 276.65, 'temp_min': 277.8, 'temp_max': 277.8, 'pressure': 1015, 'sea_level': 1015, 'grnd_level': 928, 'humidity': 86, 'temp_kf': 0}, 'weather': [{'id': 804, 'main': 'Clouds', 'description': 'overcast clouds', 'icon': '04n'}], 'clouds': {'all': 98}, 'wind': {'speed': 1.54, 'deg': 214, 'gust': 1.46}, 'visibility': 10000, 'pop': 0, 'sys': {'pod': 'n'}, 'dt_txt': '2023-02-23 03:00:00'}, {'dt': 1677132000, 'main': {'temp': 277.44, 'feels_like': 276.31, 'temp_min': 277.44, 'temp_max': 277.44, 'pressure': 1015, 'sea_level': 1015, 'grnd_level': 928, 'humidity': 85, 'temp_kf': 0}, 'weather': [{'id': 804, 'main': 'Clouds', 'description': 'overcast clouds', 'icon': '04n'}], 'clouds': {'all': 99}, 'wind': {'speed': 1.48, 'deg': 219, 'gust': 1.43}, 'visibility': 10000, 'pop': 0, 'sys': {'pod': 'n'}, 'dt_txt': '2023-02-23 06:00:00'}, {'dt': 1677142800, 'main': {'temp': 281.8, 'feels_like': 281.8, 'temp_min': 281.8, 'temp_max': 281.8, 'pressure': 1016, 'sea_level': 1016, 'grnd_level': 929, 'humidity': 67, 'temp_kf': 0}, 'weather': [{'id': 803, 'main': 'Clouds', 'description': 'broken clouds', 'icon': '04d'}], 'clouds': {'all': 57}, 'wind': {'speed': 0.19, 'deg': 300, 'gust': 0.91}, 'visibility': 10000, 'pop': 0, 'sys': {'pod': 'd'}, 'dt_txt': '2023-02-23 09:00:00'}, {'dt': 1677153600, 'main': {'temp': 284.09, 'feels_like': 282.81, 'temp_min': 284.09, 'temp_max': 284.09, 'pressure': 1015, 'sea_level': 1015, 'grnd_level': 929, 'humidity': 60, 'temp_kf': 0}, 'weather': [{'id': 802, 'main': 'Clouds', 'description': 'scattered clouds', 'icon': '03d'}], 'clouds': {'all': 41}, 'wind': {'speed': 1.27, 'deg': 29, 'gust': 1.51}, 'visibility': 10000, 'pop': 0, 'sys': {'pod': 'd'}, 'dt_txt': '2023-02-23 12:00:00'}, {'dt': 1677164400, 'main': {'temp': 282.32, 'feels_like': 282.32, 'temp_min': 282.32, 'temp_max': 282.32, 'pressure': 1015, 'sea_level': 1015, 'grnd_level': 928, 'humidity': 75, 'temp_kf': 0}, 'weather': [{'id': 804, 'main': 'Clouds', 'description': 'overcast clouds', 'icon': '04d'}], 'clouds': {'all': 87}, 'wind': {'speed': 1.24, 'deg': 34, 'gust': 1.5}, 'visibility': 10000, 'pop': 0, 'sys': {'pod': 'd'}, 'dt_txt': '2023-02-23 15:00:00'}, {'dt': 1677175200, 'main': {'temp': 281.04, 'feels_like': 281.04, 'temp_min': 281.04, 'temp_max': 281.04, 'pressure': 1015, 'sea_level': 1015, 'grnd_level': 928, 'humidity': 83, 'temp_kf': 0}, 'weather': [{'id': 804, 'main': 'Clouds', 'description': 'overcast clouds', 'icon': '04n'}], 'clouds': {'all': 93}, 'wind': {'speed': 1.06, 'deg': 75, 'gust': 1.27}, 'visibility': 10000, 'pop': 0, 'sys': {'pod': 'n'}, 'dt_txt': '2023-02-23 18:00:00'}, {'dt': 1677186000, 'main': {'temp': 279.97, 'feels_like': 279.97, 'temp_min': 279.97, 'temp_max': 279.97, 'pressure': 1016, 'sea_level': 1016, 'grnd_level': 929, 'humidity': 87, 'temp_kf': 0}, 'weather': [{'id': 804, 'main': 'Clouds', 'description': 'overcast clouds', 'icon': '04n'}], 'clouds': {'all': 100}, 'wind': {'speed': 0.7, 'deg': 173, 'gust': 1.07}, 'visibility': 10000, 'pop': 0, 'sys': {'pod': 'n'}, 'dt_txt': '2023-02-23 21:00:00'}, {'dt': 1677196800, 'main': {'temp': 278.91, 'feels_like': 278.91, 'temp_min': 278.91, 'temp_max': 278.91, 'pressure': 1015, 'sea_level': 1015, 'grnd_level': 928, 'humidity': 87, 'temp_kf': 0}, 'weather': [{'id': 804, 'main': 'Clouds', 'description': 'overcast clouds', 'icon': '04n'}], 'clouds': {'all': 100}, 'wind': {'speed': 0.95, 'deg': 221, 'gust': 1.18}, 'visibility': 10000, 'pop': 0, 'sys': {'pod': 'n'}, 'dt_txt': '2023-02-24 00:00:00'}, {'dt': 1677207600, 'main': {'temp': 278.28, 'feels_like': 277.35, 'temp_min': 278.28, 'temp_max': 278.28, 'pressure': 1014, 'sea_level': 1014, 'grnd_level': 927, 'humidity': 88, 'temp_kf': 0}, 'weather': [{'id': 804, 'main': 'Clouds', 'description': 'overcast clouds', 'icon': '04n'}], 'clouds': {'all': 100}, 'wind': {'speed': 1.42, 'deg': 213, 'gust': 1.63}, 'visibility': 10000, 'pop': 0, 'sys': {'pod': 'n'}, 'dt_txt': '2023-02-24 03:00:00'}, {'dt': 1677218400, 'main': {'temp': 278.22, 'feels_like': 276.92, 'temp_min': 278.22, 'temp_max': 278.22, 'pressure': 1014, 'sea_level': 1014, 'grnd_level': 926, 'humidity': 89, 'temp_kf': 0}, 'weather': [{'id': 804, 'main': 'Clouds', 'description': 'overcast clouds', 'icon': '04n'}], 'clouds': {'all': 100}, 'wind': {'speed': 1.71, 'deg': 207, 'gust': 2.56}, 'visibility': 10000, 'pop': 0, 'sys': {'pod': 'n'}, 'dt_txt': '2023-02-24 06:00:00'}, {'dt': 1677229200, 'main': {'temp': 282.11, 'feels_like': 282.11, 'temp_min': 282.11, 'temp_max': 282.11, 'pressure': 1012, 'sea_level': 1012, 'grnd_level': 926, 'humidity': 72, 'temp_kf': 0}, 'weather': [{'id': 803, 'main': 'Clouds', 'description': 'broken clouds', 'icon': '04d'}], 'clouds': {'all': 68}, 'wind': {'speed': 1.05, 'deg': 195, 'gust': 2.67}, 'visibility': 10000, 'pop': 0, 'sys': {'pod': 'd'}, 'dt_txt': '2023-02-24 09:00:00'}, {'dt': 1677240000, 'main': {'temp': 284.16, 'feels_like': 282.96, 'temp_min': 284.16, 'temp_max': 284.16, 'pressure': 1010, 'sea_level': 1010, 'grnd_level': 925, 'humidity': 63, 'temp_kf': 0}, 'weather': [{'id': 803, 'main': 'Clouds', 'description': 'broken clouds', 'icon': '04d'}], 'clouds': {'all': 61}, 'wind': {'speed': 0.75, 'deg': 207, 'gust': 3.32}, 'visibility': 10000, 'pop': 0, 'sys': {'pod': 'd'}, 'dt_txt': '2023-02-24 12:00:00'}, {'dt': 1677250800, 'main': {'temp': 283.5, 'feels_like': 282.37, 'temp_min': 283.5, 'temp_max': 283.5, 'pressure': 1008, 'sea_level': 1008, 'grnd_level': 923, 'humidity': 68, 'temp_kf': 0}, 'weather': [{'id': 500, 'main': 'Rain', 'description': 'light rain', 'icon': '10d'}], 'clouds': {'all': 100}, 'wind': {'speed': 1.47, 'deg': 179, 'gust': 3.8}, 'visibility': 10000, 'pop': 0.2, 'rain': {'3h': 0.14}, 'sys': {'pod': 'd'}, 'dt_txt': '2023-02-24 15:00:00'}, {'dt': 1677261600, 'main': {'temp': 281.06, 'feels_like': 280.18, 'temp_min': 281.06, 'temp_max': 281.06, 'pressure': 1008, 'sea_level': 1008, 'grnd_level': 922, 'humidity': 84, 'temp_kf': 0}, 'weather': [{'id': 804, 'main': 'Clouds', 'description': 'overcast clouds', 'icon': '04n'}], 'clouds': {'all': 100}, 'wind': {'speed': 1.72, 'deg': 181, 'gust': 3.74}, 'visibility': 10000, 'pop': 0, 'sys': {'pod': 'n'}, 'dt_txt': '2023-02-24 18:00:00'}, {'dt': 1677272400, 'main': {'temp': 281.04, 'feels_like': 279.97, 'temp_min': 281.04, 'temp_max': 281.04, 'pressure': 1007, 'sea_level': 1007, 'grnd_level': 921, 'humidity': 84, 'temp_kf': 0}, 'weather': [{'id': 500, 'main': 'Rain', 'description': 'light rain', 'icon': '10n'}], 'clouds': {'all': 100}, 'wind': {'speed': 1.91, 'deg': 208, 'gust': 4.22}, 'visibility': 10000, 'pop': 0.33, 'rain': {'3h': 0.14}, 'sys': {'pod': 'n'}, 'dt_txt': '2023-02-24 21:00:00'}, {'dt': 1677283200, 'main': {'temp': 280.51, 'feels_like': 279.59, 'temp_min': 280.51, 'temp_max': 280.51, 'pressure': 1004, 'sea_level': 1004, 'grnd_level': 918, 'humidity': 88, 'temp_kf': 0}, 'weather': [{'id': 500, 'main': 'Rain', 'description': 'light rain', 'icon': '10n'}], 'clouds': {'all': 99}, 'wind': {'speed': 1.68, 'deg': 207, 'gust': 5.18}, 'visibility': 10000, 'pop': 0.53, 'rain': {'3h': 1.06}, 'sys': {'pod': 'n'}, 'dt_txt': '2023-02-25 00:00:00'}, {'dt': 1677294000, 'main': {'temp': 280.05, 'feels_like': 279.29, 'temp_min': 280.05, 'temp_max': 280.05, 'pressure': 1002, 'sea_level': 1002, 'grnd_level': 916, 'humidity': 91, 'temp_kf': 0}, 'weather': [{'id': 500, 'main': 'Rain', 'description': 'light rain', 'icon': '10n'}], 'clouds': {'all': 97}, 'wind': {'speed': 1.48, 'deg': 218, 'gust': 4.91}, 'visibility': 10000, 'pop': 0.31, 'rain': {'3h': 0.67}, 'sys': {'pod': 'n'}, 'dt_txt': '2023-02-25 03:00:00'}, {'dt': 1677304800, 'main': {'temp': 279.25, 'feels_like': 278.06, 'temp_min': 279.25, 'temp_max': 279.25, 'pressure': 1002, 'sea_level': 1002, 'grnd_level': 915, 'humidity': 93, 'temp_kf': 0}, 'weather': [{'id': 500, 'main': 'Rain', 'description': 'light rain', 'icon': '10n'}], 'clouds': {'all': 93}, 'wind': {'speed': 1.75, 'deg': 213, 'gust': 4.43}, 'visibility': 10000, 'pop': 0.35, 'rain': {'3h': 0.16}, 'sys': {'pod': 'n'}, 'dt_txt': '2023-02-25 06:00:00'}, {'dt': 1677315600, 'main': {'temp': 282.26, 'feels_like': 282.26, 'temp_min': 282.26, 'temp_max': 282.26, 'pressure': 1001, 'sea_level': 1001, 'grnd_level': 916, 'humidity': 78, 'temp_kf': 0}, 'weather': [{'id': 803, 'main': 'Clouds', 'description': 'broken clouds', 'icon': '04d'}], 'clouds': {'all': 59}, 'wind': {'speed': 1.1, 'deg': 211, 'gust': 3.27}, 'visibility': 10000, 'pop': 0.17, 'sys': {'pod': 'd'}, 'dt_txt': '2023-02-25 09:00:00'}, {'dt': 1677326400, 'main': {'temp': 283.17, 'feels_like': 282.21, 'temp_min': 283.17, 'temp_max': 283.17, 'pressure': 1000, 'sea_level': 1000, 'grnd_level': 915, 'humidity': 76, 'temp_kf': 0}, 'weather': [{'id': 803, 'main': 'Clouds', 'description': 'broken clouds', 'icon': '04d'}], 'clouds': {'all': 68}, 'wind': {'speed': 1.14, 'deg': 207, 'gust': 2.28}, 'visibility': 10000, 'pop': 0.2, 'sys': {'pod': 'd'}, 'dt_txt': '2023-02-25 12:00:00'}, {'dt': 1677337200, 'main': {'temp': 283.45, 'feels_like': 282.52, 'temp_min': 283.45, 'temp_max': 283.45, 'pressure': 999, 'sea_level': 999, 'grnd_level': 915, 'humidity': 76, 'temp_kf': 0}, 'weather': [{'id': 500, 'main': 'Rain', 'description': 'light rain', 'icon': '10d'}], 'clouds': {'all': 93}, 'wind': {'speed': 1.69, 'deg': 196, 'gust': 2.88}, 'visibility': 10000, 'pop': 0.38, 'rain': {'3h': 0.12}, 'sys': {'pod': 'd'}, 'dt_txt': '2023-02-25 15:00:00'}, {'dt': 1677348000, 'main': {'temp': 280.84, 'feels_like': 280.33, 'temp_min': 280.84, 'temp_max': 280.84, 'pressure': 1000, 'sea_level': 1000, 'grnd_level': 915, 'humidity': 88, 'temp_kf': 0}, 'weather': [{'id': 804, 'main': 'Clouds', 'description': 'overcast clouds', 'icon': '04n'}], 'clouds': {'all': 88}, 'wind': {'speed': 1.36, 'deg': 207, 'gust': 2}, 'visibility': 10000, 'pop': 0.08, 'sys': {'pod': 'n'}, 'dt_txt': '2023-02-25 18:00:00'}, {'dt': 1677358800, 'main': {'temp': 279.59, 'feels_like': 278.51, 'temp_min': 279.59, 'temp_max': 279.59, 'pressure': 1001, 'sea_level': 1001, 'grnd_level': 915, 'humidity': 90, 'temp_kf': 0}, 'weather': [{'id': 803, 'main': 'Clouds', 'description': 'broken clouds', 'icon': '04n'}], 'clouds': {'all': 72}, 'wind': {'speed': 1.7, 'deg': 224, 'gust': 1.62}, 'visibility': 10000, 'pop': 0.05, 'sys': {'pod': 'n'}, 'dt_txt': '2023-02-25 21:00:00'}, {'dt': 1677369600, 'main': {'temp': 279.8, 'feels_like': 279.07, 'temp_min': 279.8, 'temp_max': 279.8, 'pressure': 1000, 'sea_level': 1000, 'grnd_level': 914, 'humidity': 88, 'temp_kf': 0}, 'weather': [{'id': 803, 'main': 'Clouds', 'description': 'broken clouds', 'icon': '04n'}], 'clouds': {'all': 74}, 'wind': {'speed': 1.43, 'deg': 218, 'gust': 1.45}, 'visibility': 10000, 'pop': 0.05, 'sys': {'pod': 'n'}, 'dt_txt': '2023-02-26 00:00:00'}, {'dt': 1677380400, 'main': {'temp': 279.18, 'feels_like': 277.66, 'temp_min': 279.18, 'temp_max': 279.18, 'pressure': 999, 'sea_level': 999, 'grnd_level': 913, 'humidity': 95, 'temp_kf': 0}, 'weather': [{'id': 500, 'main': 'Rain', 'description': 'light rain', 'icon': '10n'}], 'clouds': {'all': 96}, 'wind': {'speed': 2.06, 'deg': 16, 'gust': 3.43}, 'visibility': 10000, 'pop': 0.54, 'rain': {'3h': 0.69}, 'sys': {'pod': 'n'}, 'dt_txt': '2023-02-26 03:00:00'}, {'dt': 1677391200, 'main': {'temp': 274.55, 'feels_like': 270.72, 'temp_min': 274.55, 'temp_max': 274.55, 'pressure': 1003, 'sea_level': 1003, 'grnd_level': 915, 'humidity': 96, 'temp_kf': 0}, 'weather': [{'id': 501, 'main': 'Rain', 'description': 'moderate rain', 'icon': '10d'}], 'clouds': {'all': 98}, 'wind': {'speed': 3.8, 'deg': 47, 'gust': 8.05}, 'visibility': 1231, 'pop': 0.85, 'rain': {'3h': 4.6}, 'sys': {'pod': 'd'}, 'dt_txt': '2023-02-26 06:00:00'}, {'dt': 1677402000, 'main': {'temp': 272.9, 'feels_like': 269.15, 'temp_min': 272.9, 'temp_max': 272.9, 'pressure': 1006, 'sea_level': 1006, 'grnd_level': 918, 'humidity': 99, 'temp_kf': 0}, 'weather': [{'id': 601, 'main': 'Snow', 'description': 'snow', 'icon': '13d'}], 'clouds': {'all': 100}, 'wind': {'speed': 3.23, 'deg': 70, 'gust': 9.99}, 'visibility': 37, 'pop': 1, 'snow': {'3h': 5.57}, 'sys': {'pod': 'd'}, 'dt_txt': '2023-02-26 09:00:00'}, {'dt': 1677412800, 'main': {'temp': 272.11, 'feels_like': 267.12, 'temp_min': 272.11, 'temp_max': 272.11, 'pressure': 1008, 'sea_level': 1008, 'grnd_level': 919, 'humidity': 97, 'temp_kf': 0}, 'weather': [{'id': 601, 'main': 'Snow', 'description': 'snow', 'icon': '13d'}], 'clouds': {'all': 100}, 'wind': {'speed': 4.69, 'deg': 74, 'gust': 10.95}, 'visibility': 666, 'pop': 1, 'snow': {'3h': 2.53}, 'sys': {'pod': 'd'}, 'dt_txt': '2023-02-26 12:00:00'}, {'dt': 1677423600, 'main': {'temp': 272.38, 'feels_like': 268.26, 'temp_min': 272.38, 'temp_max': 272.38, 'pressure': 1009, 'sea_level': 1009, 'grnd_level': 921, 'humidity': 86, 'temp_kf': 0}, 'weather': [{'id': 601, 'main': 'Snow', 'description': 'snow', 'icon': '13d'}], 'clouds': {'all': 100}, 'wind': {'speed': 3.55, 'deg': 51, 'gust': 9.77}, 'visibility': 4796, 'pop': 0.77, 'snow': {'3h': 2.17}, 'sys': {'pod': 'd'}, 'dt_txt': '2023-02-26 15:00:00'}, {'dt': 1677434400, 'main': {'temp': 271.84, 'feels_like': 267.37, 'temp_min': 271.84, 'temp_max': 271.84, 'pressure': 1012, 'sea_level': 1012, 'grnd_level': 923, 'humidity': 87, 'temp_kf': 0}, 'weather': [{'id': 601, 'main': 'Snow', 'description': 'snow', 'icon': '13n'}], 'clouds': {'all': 100}, 'wind': {'speed': 3.85, 'deg': 64, 'gust': 12.41}, 'visibility': 10000, 'pop': 0.7, 'snow': {'3h': 1.52}, 'sys': {'pod': 'n'}, 'dt_txt': '2023-02-26 18:00:00'}, {'dt': 1677445200, 'main': {'temp': 270.87, 'feels_like': 270.87, 'temp_min': 270.87, 'temp_max': 270.87, 'pressure': 1014, 'sea_level': 1014, 'grnd_level': 925, 'humidity': 93, 'temp_kf': 0}, 'weather': [{'id': 600, 'main': 'Snow', 'description': 'light snow', 'icon': '13n'}], 'clouds': {'all': 100}, 'wind': {'speed': 1.14, 'deg': 95, 'gust': 6.81}, 'visibility': 9602, 'pop': 0.24, 'snow': {'3h': 0.2}, 'sys': {'pod': 'n'}, 'dt_txt': '2023-02-26 21:00:00'}, {'dt': 1677456000, 'main': {'temp': 271.15, 'feels_like': 268.57, 'temp_min': 271.15, 'temp_max': 271.15, 'pressure': 1016, 'sea_level': 1016, 'grnd_level': 926, 'humidity': 87, 'temp_kf': 0}, 'weather': [{'id': 600, 'main': 'Snow', 'description': 'light snow', 'icon': '13n'}], 'clouds': {'all': 99}, 'wind': {'speed': 1.85, 'deg': 81, 'gust': 8.61}, 'visibility': 8833, 'pop': 0.28, 'snow': {'3h': 0.51}, 'sys': {'pod': 'n'}, 'dt_txt': '2023-02-27 00:00:00'}, {'dt': 1677466800, 'main': {'temp': 270.68, 'feels_like': 268.33, 'temp_min': 270.68, 'temp_max': 270.68, 'pressure': 1017, 'sea_level': 1017, 'grnd_level': 927, 'humidity': 96, 'temp_kf': 0}, 'weather': [{'id': 601, 'main': 'Snow', 'description': 'snow', 'icon': '13n'}], 'clouds': {'all': 100}, 'wind': {'speed': 1.65, 'deg': 47, 'gust': 8.54}, 'visibility': 3212, 'pop': 0.54, 'snow': {'3h': 2.06}, 'sys': {'pod': 'n'}, 'dt_txt': '2023-02-27 03:00:00'}, {'dt': 1677477600, 'main': {'temp': 270.18, 'feels_like': 267.26, 'temp_min': 270.18, 'temp_max': 270.18, 'pressure': 1019, 'sea_level': 1019, 'grnd_level': 928, 'humidity': 96, 'temp_kf': 0}, 'weather': [{'id': 600, 'main': 'Snow', 'description': 'light snow', 'icon': '13d'}], 'clouds': {'all': 100}, 'wind': {'speed': 1.98, 'deg': 30, 'gust': 7.87}, 'visibility': 3165, 'pop': 0.54, 'snow': {'3h': 1.48}, 'sys': {'pod': 'd'}, 'dt_txt': '2023-02-27 06:00:00'}, {'dt': 1677488400, 'main': {'temp': 271.24, 'feels_like': 267.27, 'temp_min': 271.24, 'temp_max': 271.24, 'pressure': 1020, 'sea_level': 1020, 'grnd_level': 930, 'humidity': 97, 'temp_kf': 0}, 'weather': [{'id': 601, 'main': 'Snow', 'description': 'snow', 'icon': '13d'}], 'clouds': {'all': 100}, 'wind': {'speed': 3.09, 'deg': 33, 'gust': 7.04}, 'visibility': 132, 'pop': 0.52, 'snow': {'3h': 1.51}, 'sys': {'pod': 'd'}, 'dt_txt': '2023-02-27 09:00:00'}, {'dt': 1677499200, 'main': {'temp': 272.15, 'feels_like': 267.79, 'temp_min': 272.15, 'temp_max': 272.15, 'pressure': 1021, 'sea_level': 1021, 'grnd_level': 931, 'humidity': 94, 'temp_kf': 0}, 'weather': [{'id': 601, 'main': 'Snow', 'description': 'snow', 'icon': '13d'}], 'clouds': {'all': 100}, 'wind': {'speed': 3.79, 'deg': 38, 'gust': 8.05}, 'visibility': 725, 'pop': 0.56, 'snow': {'3h': 1.61}, 'sys': {'pod': 'd'}, 'dt_txt': '2023-02-27 12:00:00'}, {'dt': 1677510000, 'main': {'temp': 272.11, 'feels_like': 268.83, 'temp_min': 272.11, 'temp_max': 272.11, 'pressure': 1021, 'sea_level': 1021, 'grnd_level': 931, 'humidity': 95, 'temp_kf': 0}, 'weather': [{'id': 600, 'main': 'Snow', 'description': 'light snow', 'icon': '13d'}], 'clouds': {'all': 100}, 'wind': {'speed': 2.56, 'deg': 33, 'gust': 6.38}, 'visibility': 2806, 'pop': 0.44, 'snow': {'3h': 1.28}, 'sys': {'pod': 'd'}, 'dt_txt': '2023-02-27 15:00:00'}]\n"
     ]
    }
   ],
   "source": [
    "print(x['list'])\n",
    "#df = pd.read_json('http://api.openweathermap.org/data/2.5/forecast?lat=44.34&lon=10.99&appid=264308798c3239b2dc857702b9155206')\n",
    "#print(type(x))\n",
    "#print(df.info)"
   ]
  },
  {
   "cell_type": "code",
   "execution_count": 28,
   "id": "83de024c",
   "metadata": {},
   "outputs": [
    {
     "name": "stdout",
     "output_type": "stream",
     "text": [
      "04\n"
     ]
    }
   ],
   "source": [
    "x = \"04n\"[:-1]\n",
    "print(x)"
   ]
  },
  {
   "cell_type": "code",
   "execution_count": null,
   "id": "72821003",
   "metadata": {},
   "outputs": [],
   "source": []
  }
 ],
 "metadata": {
  "kernelspec": {
   "display_name": "Python 3 (ipykernel)",
   "language": "python",
   "name": "python3"
  },
  "language_info": {
   "codemirror_mode": {
    "name": "ipython",
    "version": 3
   },
   "file_extension": ".py",
   "mimetype": "text/x-python",
   "name": "python",
   "nbconvert_exporter": "python",
   "pygments_lexer": "ipython3",
   "version": "3.10.8"
  }
 },
 "nbformat": 4,
 "nbformat_minor": 5
}
