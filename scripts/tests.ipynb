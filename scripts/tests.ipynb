{
 "cells": [
  {
   "cell_type": "code",
   "execution_count": 5,
   "id": "ca714763",
   "metadata": {},
   "outputs": [
    {
     "name": "stdout",
     "output_type": "stream",
     "text": [
      "[[datetime.datetime(2023, 1, 29, 13, 0, tzinfo=tzoffset(None, 3600)), 'Impôts questions B.O'], [datetime.datetime(2023, 2, 21, 18, 55, tzinfo=tzoffset(None, 3600)), 'Studieskolen'], [datetime.datetime(2023, 2, 23, 15, 0, tzinfo=tzoffset(None, 3600)), 'Rent'], [datetime.datetime(2023, 2, 23, 18, 55, tzinfo=tzoffset(None, 3600)), 'Studieskolen'], [datetime.datetime(2023, 2, 28, 18, 55, tzinfo=tzoffset(None, 3600)), 'Studieskolen'], [datetime.datetime(2023, 3, 2, 18, 55, tzinfo=tzoffset(None, 3600)), 'Studieskolen'], [datetime.datetime(2023, 3, 2, 19, 0, tzinfo=tzoffset(None, 3600)), 'Ambassade'], [datetime.datetime(2023, 3, 7, 18, 55, tzinfo=tzoffset(None, 3600)), 'Studieskolen'], [datetime.datetime(2023, 3, 9, 18, 55, tzinfo=tzoffset(None, 3600)), 'Studieskolen'], [datetime.datetime(2023, 3, 14, 18, 55, tzinfo=tzoffset(None, 3600)), 'Studieskolen']]\n"
     ]
    }
   ],
   "source": [
    "import pandas as pd\n",
    "from dateutil import parser\n",
    "\n",
    "url = 'https://docs.google.com/spreadsheets/d/e/2PACX-1vRJtzo9q4NS01XynS0s6ic1da7o8sENcO_QCBlt9UbrKw24ltaRj0cdAKcRCSoG3j4-QdSvMJnxBb_i/pub?output=csv'\n",
    "\n",
    "colnames = ['date','event']\n",
    "\n",
    "df = pd.read_csv(url, names=colnames)\n",
    "\n",
    "events = [ [parser.parse(df.iloc[i].date), df.iloc[i].event] for i in range(len(df))]\n",
    "print(events)\n",
    "\n",
    "\n",
    "\n",
    "\n"
   ]
  },
  {
   "cell_type": "code",
   "execution_count": 3,
   "id": "aa171c92",
   "metadata": {},
   "outputs": [
    {
     "name": "stdout",
     "output_type": "stream",
     "text": [
      "True\n"
     ]
    }
   ],
   "source": [
    "from display import Rectangle\n",
    "\n",
    "rect1 = Rectangle(10,10,10,10)\n",
    "print(isinstance(rect1, Rectangle))"
   ]
  },
  {
   "cell_type": "code",
   "execution_count": 9,
   "id": "54d57bf3",
   "metadata": {},
   "outputs": [
    {
     "data": {
      "text/plain": [
       "1"
      ]
     },
     "execution_count": 9,
     "metadata": {},
     "output_type": "execute_result"
    }
   ],
   "source": [
    "events[0][0].month"
   ]
  },
  {
   "cell_type": "code",
   "execution_count": null,
   "id": "bda61182",
   "metadata": {},
   "outputs": [],
   "source": []
  }
 ],
 "metadata": {
  "kernelspec": {
   "display_name": "Python 3 (ipykernel)",
   "language": "python",
   "name": "python3"
  },
  "language_info": {
   "codemirror_mode": {
    "name": "ipython",
    "version": 3
   },
   "file_extension": ".py",
   "mimetype": "text/x-python",
   "name": "python",
   "nbconvert_exporter": "python",
   "pygments_lexer": "ipython3",
   "version": "3.10.8"
  }
 },
 "nbformat": 4,
 "nbformat_minor": 5
}
