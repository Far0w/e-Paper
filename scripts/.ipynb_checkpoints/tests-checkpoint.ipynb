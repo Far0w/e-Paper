{
 "cells": [
  {
   "cell_type": "code",
   "execution_count": null,
   "id": "ca714763",
   "metadata": {},
   "outputs": [],
   "source": [
    "import pandas as pd\n",
    "from dateutil import parser\n",
    "\n",
    "url = 'https://docs.google.com/spreadsheets/d/e/2PACX-1vRJtzo9q4NS01XynS0s6ic1da7o8sENcO_QCBlt9UbrKw24ltaRj0cdAKcRCSoG3j4-QdSvMJnxBb_i/pub?output=csv'\n",
    "\n",
    "colnames = ['date','event']\n",
    "\n",
    "df = pd.read_csv(url, names=colnames)\n",
    "\n",
    "events = [ [parser.parse(df.iloc[i].date), df.iloc[i].event] for i in range(len(df))]\n",
    "print(events)\n",
    "\n",
    "\n",
    "\n",
    "\n"
   ]
  },
  {
   "cell_type": "code",
   "execution_count": null,
   "id": "f236116d",
   "metadata": {},
   "outputs": [],
   "source": []
  },
  {
   "cell_type": "code",
   "execution_count": null,
   "id": "aa171c92",
   "metadata": {},
   "outputs": [],
   "source": [
    "from display import Rectangle\n",
    "\n",
    "rect1 = Rectangle(10,10,10,10)\n",
    "print(isinstance(rect1, Rectangle))"
   ]
  },
  {
   "cell_type": "code",
   "execution_count": null,
   "id": "20ef580d",
   "metadata": {},
   "outputs": [],
   "source": [
    "events[0][0].isocalendar().week"
   ]
  },
  {
   "cell_type": "code",
   "execution_count": null,
   "id": "f6ddb7be",
   "metadata": {},
   "outputs": [],
   "source": [
    "print((\"0\" + \"3\")[-2:])"
   ]
  },
  {
   "cell_type": "code",
   "execution_count": null,
   "id": "39f502bd",
   "metadata": {},
   "outputs": [],
   "source": [
    "from datetime import datetime as date\n",
    "date.today().strftime(\"%A %d %B\")"
   ]
  },
  {
   "cell_type": "code",
   "execution_count": null,
   "id": "012baa20",
   "metadata": {},
   "outputs": [],
   "source": [
    "print(\"Last update: {}/{}| {}.\".format(date.today().strftime(\"%d\"), date.today().strftime(\"%m\"), date.today().strftime(\"%R\")))"
   ]
  },
  {
   "cell_type": "code",
   "execution_count": null,
   "id": "5b9d5315",
   "metadata": {},
   "outputs": [],
   "source": []
  },
  {
   "cell_type": "code",
   "execution_count": null,
   "id": "01425bd0",
   "metadata": {},
   "outputs": [],
   "source": [
    "from weather import WeatherAPI\n",
    "\n",
    "API = WeatherAPI()\n",
    "\n",
    "API.request_data()"
   ]
  },
  {
   "cell_type": "code",
   "execution_count": 1,
   "id": "f0230019",
   "metadata": {},
   "outputs": [
    {
     "name": "stdout",
     "output_type": "stream",
     "text": [
      "{'coord': {'lon': 12.5655, 'lat': 55.6759}, 'weather': [{'id': 802, 'main': 'Clouds', 'description': 'scattered clouds', 'icon': '03d'}], 'base': 'stations', 'main': {'temp': 277.92, 'feels_like': 273.9, 'temp_min': 276.49, 'temp_max': 278.23, 'pressure': 1016, 'humidity': 69}, 'visibility': 10000, 'wind': {'speed': 5.66, 'deg': 300}, 'clouds': {'all': 40}, 'dt': 1676801011, 'sys': {'type': 2, 'id': 2035645, 'country': 'DK', 'sunrise': 1676787972, 'sunset': 1676823681}, 'timezone': 3600, 'id': 2618425, 'name': 'Copenhagen', 'cod': 200}\n",
      " Temperature : 4.8 \n",
      " atmospheric pressure (in hPa unit) = 1016 \n",
      " humidity (in percentage) = 69 \n",
      " description = scattered clouds\n"
     ]
    }
   ],
   "source": [
    "from weather import WeatherAPI\n",
    "\n",
    "API = WeatherAPI()\n",
    "\n",
    "API.request_data()"
   ]
  },
  {
   "cell_type": "code",
   "execution_count": null,
   "id": "bbef4d74",
   "metadata": {},
   "outputs": [],
   "source": [
    "api.openweathermap.org/data/2.5/forecast/daily?lat=44.34&lon=10.99&cnt=7&appid={API key}"
   ]
  },
  {
   "cell_type": "code",
   "execution_count": 5,
   "id": "42d72308",
   "metadata": {},
   "outputs": [
    {
     "ename": "SyntaxError",
     "evalue": "invalid syntax (3818175611.py, line 1)",
     "output_type": "error",
     "traceback": [
      "\u001b[1;36m  Cell \u001b[1;32mIn[5], line 1\u001b[1;36m\u001b[0m\n\u001b[1;33m    response = requests.get(api.openweathermap.org/data/2.5/forecast/daily?lat=44.34&lon=10.99&cnt=7&appid={API key})\u001b[0m\n\u001b[1;37m                                                                          ^\u001b[0m\n\u001b[1;31mSyntaxError\u001b[0m\u001b[1;31m:\u001b[0m invalid syntax\n"
     ]
    }
   ],
   "source": [
    "response = requests.get(api.openweathermap.org/data/2.5/forecast/daily?lat=44.34&lon=10.99&cnt=7&appid={API key})\n",
    "x = response.json()"
   ]
  },
  {
   "cell_type": "code",
   "execution_count": 18,
   "id": "4084c91a",
   "metadata": {},
   "outputs": [],
   "source": [
    "import requests\n",
    "import pandas as pd"
   ]
  },
  {
   "cell_type": "code",
   "execution_count": 10,
   "id": "a2af352d",
   "metadata": {},
   "outputs": [],
   "source": [
    "response = requests.get('http://api.openweathermap.org/data/2.5/forecast?lat=44.34&lon=10.99&appid=264308798c3239b2dc857702b9155206')\n",
    "x = response.json()"
   ]
  },
  {
   "cell_type": "code",
   "execution_count": null,
   "id": "d1b0a0f3",
   "metadata": {},
   "outputs": [],
   "source": [
    "print(x['list'])\n",
    "#df = pd.read_json('http://api.openweathermap.org/data/2.5/forecast?lat=44.34&lon=10.99&appid=264308798c3239b2dc857702b9155206')\n",
    "#print(type(x))\n",
    "#print(df.info)"
   ]
  },
  {
   "cell_type": "code",
   "execution_count": 28,
   "id": "83de024c",
   "metadata": {},
   "outputs": [
    {
     "name": "stdout",
     "output_type": "stream",
     "text": [
      "04\n"
     ]
    }
   ],
   "source": [
    "x = \"04n\"[:-1]\n",
    "print(x)"
   ]
  },
  {
   "cell_type": "code",
   "execution_count": 3,
   "id": "72821003",
   "metadata": {},
   "outputs": [
    {
     "name": "stdout",
     "output_type": "stream",
     "text": [
      "I cannot believe in a God who wants to be praised all the time.\n"
     ]
    }
   ],
   "source": [
    "from quote import cli as random_quote\n",
    "quoteText = random_quote.random_search(\"Nietzsche\")\n",
    "\n",
    "print(quoteText)"
   ]
  },
  {
   "cell_type": "code",
   "execution_count": 9,
   "id": "93182ac5",
   "metadata": {},
   "outputs": [
    {
     "name": "stdout",
     "output_type": "stream",
     "text": [
      "ok b c\n"
     ]
    }
   ],
   "source": [
    "a = \"ok\"\n",
    "\n",
    "a = a + \" b\" + \" c\"\n",
    "\n",
    "print(a)"
   ]
  },
  {
   "cell_type": "code",
   "execution_count": 11,
   "id": "8e66bb9f",
   "metadata": {},
   "outputs": [
    {
     "data": {
      "text/plain": [
       "1"
      ]
     },
     "execution_count": 11,
     "metadata": {},
     "output_type": "execute_result"
    }
   ],
   "source": [
    "201//200"
   ]
  },
  {
   "cell_type": "code",
   "execution_count": 3,
   "id": "45a6e0fa",
   "metadata": {},
   "outputs": [
    {
     "name": "stdout",
     "output_type": "stream",
     "text": [
      "Notion data sucessfully acquired.\n",
      "['Page test ', 'Tache 5', 'Page 3', 'Page 1']\n"
     ]
    }
   ],
   "source": [
    "import data_collection as dc\n",
    "import credentials\n",
    "\n",
    "Notion_data_collector = dc.NotionDataCollector(credentials.notion_API_key, credentials.notion_todolist_database_id)\n",
    "\n",
    "print(Notion_data_collector.download_todo_list())"
   ]
  },
  {
   "cell_type": "code",
   "execution_count": 20,
   "id": "8cc406a7",
   "metadata": {},
   "outputs": [
    {
     "name": "stdout",
     "output_type": "stream",
     "text": [
      "Tache 5\n",
      "Page 3\n",
      "Page 1\n",
      "Page 2\n"
     ]
    }
   ],
   "source": [
    "import json\n",
    "\n",
    "for i in range(len(a[\"results\"])):\n",
    "import r    print(a[\"results\"][i][\"properties\"][\"Name\"][\"title\"][0][\"text\"][\"content\"])"
   ]
  },
  {
   "cell_type": "code",
   "execution_count": 56,
   "id": "4aab5f2a",
   "metadata": {},
   "outputs": [
    {
     "name": "stdout",
     "output_type": "stream",
     "text": [
      "[['', '', ''], ['', '', ''], ['', '', ''], ['', '', '']]\n",
      "[['i', 'h', 'd'], ['j', 'k', 'f'], ['l', 'c', 'g'], ['m', 'a', 'e']]\n"
     ]
    }
   ],
   "source": [
    "import random as rd\n",
    "\n",
    "nb_lines = 4\n",
    "nb_columns = 3\n",
    "\n",
    "table = [ [\"\" for i in range(nb_columns)] for j in range(nb_lines) ]\n",
    "possible_positions = [[i//nb_columns, i%nb_columns] for i in range(nb_columns*nb_lines)] # create a list of possible solutions that will reduce when the loop is running (bc possible positions will less and less be available)\n",
    "tasks = [\"a\", \"b\", \"c\"]\n",
    "tasks = [\"a\", \"b\", \"c\", \"d\", \"e\", \"f\", \"g\", \"h\", \"i\", \"j\", \"k\", \"l\", \"m\", \"14\"]\n",
    "rd.shuffle(tasks)\n",
    "\n",
    "while len(tasks) > 0 and len(possible_positions) > 0:\n",
    "    element = tasks.pop()\n",
    "    position_taken = possible_positions.pop(rd.randint(0, len(possible_positions)-1))\n",
    "    line_index, col_index = position_taken[0], position_taken[1]\n",
    "    table[line_index][col_index] = element"
   ]
  },
  {
   "cell_type": "code",
   "execution_count": null,
   "id": "6d942b60",
   "metadata": {},
   "outputs": [],
   "source": [
    "for y in range(nb_lines):\n",
    "        for x in range(nb_columns):\n",
    "            task_to_display = table[y][x]\n",
    "            pos_x, pos_y = X + x*tile_width, Y + y*tile_height+icon_height+padding_icon"
   ]
  },
  {
   "cell_type": "code",
   "execution_count": 1,
   "id": "9e2b17c4",
   "metadata": {},
   "outputs": [
    {
     "name": "stdout",
     "output_type": "stream",
     "text": [
      "{'coord': {'lon': 12.5655, 'lat': 55.6759}, 'weather': [{'id': 802, 'main': 'Clouds', 'description': 'scattered clouds', 'icon': '03d'}], 'base': 'stations', 'main': {'temp': 10.89, 'feels_like': 9.31, 'temp_min': 8.23, 'temp_max': 11.25, 'pressure': 1023, 'humidity': 49}, 'visibility': 10000, 'wind': {'speed': 6.69, 'deg': 290}, 'clouds': {'all': 40}, 'dt': 1682863215, 'sys': {'type': 2, 'id': 2035645, 'country': 'DK', 'sunrise': 1682825406, 'sunset': 1682880222}, 'timezone': 7200, 'id': 2618425, 'name': 'Copenhagen', 'cod': 200}\n",
      "{'cod': '200', 'message': 0, 'cnt': 16, 'list': [{'dt': 1682866800, 'main': {'temp': 10.89, 'feels_like': 9.29, 'temp_min': 9.87, 'temp_max': 10.89, 'pressure': 1023, 'sea_level': 1023, 'grnd_level': 1020, 'humidity': 48, 'temp_kf': 1.02}, 'weather': [{'id': 802, 'main': 'Clouds', 'description': 'scattered clouds', 'icon': '03d'}], 'clouds': {'all': 40}, 'wind': {'speed': 4.87, 'deg': 301, 'gust': 6.97}, 'visibility': 10000, 'pop': 0, 'sys': {'pod': 'd'}, 'dt_txt': '2023-04-30 15:00:00'}, {'dt': 1682877600, 'main': {'temp': 10.25, 'feels_like': 8.69, 'temp_min': 8.98, 'temp_max': 10.25, 'pressure': 1022, 'sea_level': 1022, 'grnd_level': 1020, 'humidity': 52, 'temp_kf': 1.27}, 'weather': [{'id': 802, 'main': 'Clouds', 'description': 'scattered clouds', 'icon': '03d'}], 'clouds': {'all': 39}, 'wind': {'speed': 2.78, 'deg': 294, 'gust': 4.53}, 'visibility': 10000, 'pop': 0, 'sys': {'pod': 'd'}, 'dt_txt': '2023-04-30 18:00:00'}, {'dt': 1682888400, 'main': {'temp': 8.48, 'feels_like': 6.86, 'temp_min': 7.27, 'temp_max': 8.48, 'pressure': 1022, 'sea_level': 1022, 'grnd_level': 1020, 'humidity': 64, 'temp_kf': 1.21}, 'weather': [{'id': 803, 'main': 'Clouds', 'description': 'broken clouds', 'icon': '04n'}], 'clouds': {'all': 75}, 'wind': {'speed': 2.73, 'deg': 246, 'gust': 3.87}, 'visibility': 10000, 'pop': 0, 'sys': {'pod': 'n'}, 'dt_txt': '2023-04-30 21:00:00'}, {'dt': 1682899200, 'main': {'temp': 6.43, 'feels_like': 4.1, 'temp_min': 6.43, 'temp_max': 6.43, 'pressure': 1020, 'sea_level': 1020, 'grnd_level': 1019, 'humidity': 74, 'temp_kf': 0}, 'weather': [{'id': 804, 'main': 'Clouds', 'description': 'overcast clouds', 'icon': '04n'}], 'clouds': {'all': 95}, 'wind': {'speed': 3.19, 'deg': 245, 'gust': 5.16}, 'visibility': 10000, 'pop': 0, 'sys': {'pod': 'n'}, 'dt_txt': '2023-05-01 00:00:00'}, {'dt': 1682910000, 'main': {'temp': 5.97, 'feels_like': 3.16, 'temp_min': 5.97, 'temp_max': 5.97, 'pressure': 1018, 'sea_level': 1018, 'grnd_level': 1017, 'humidity': 75, 'temp_kf': 0}, 'weather': [{'id': 804, 'main': 'Clouds', 'description': 'overcast clouds', 'icon': '04n'}], 'clouds': {'all': 97}, 'wind': {'speed': 3.81, 'deg': 222, 'gust': 7.43}, 'visibility': 10000, 'pop': 0, 'sys': {'pod': 'n'}, 'dt_txt': '2023-05-01 03:00:00'}, {'dt': 1682920800, 'main': {'temp': 7.83, 'feels_like': 4.56, 'temp_min': 7.83, 'temp_max': 7.83, 'pressure': 1018, 'sea_level': 1018, 'grnd_level': 1016, 'humidity': 76, 'temp_kf': 0}, 'weather': [{'id': 804, 'main': 'Clouds', 'description': 'overcast clouds', 'icon': '04d'}], 'clouds': {'all': 93}, 'wind': {'speed': 5.81, 'deg': 211, 'gust': 9.89}, 'visibility': 10000, 'pop': 0, 'sys': {'pod': 'd'}, 'dt_txt': '2023-05-01 06:00:00'}, {'dt': 1682931600, 'main': {'temp': 10.4, 'feels_like': 9.17, 'temp_min': 10.4, 'temp_max': 10.4, 'pressure': 1017, 'sea_level': 1017, 'grnd_level': 1015, 'humidity': 64, 'temp_kf': 0}, 'weather': [{'id': 804, 'main': 'Clouds', 'description': 'overcast clouds', 'icon': '04d'}], 'clouds': {'all': 100}, 'wind': {'speed': 5.79, 'deg': 204, 'gust': 8.02}, 'visibility': 10000, 'pop': 0, 'sys': {'pod': 'd'}, 'dt_txt': '2023-05-01 09:00:00'}, {'dt': 1682942400, 'main': {'temp': 11.59, 'feels_like': 10.37, 'temp_min': 11.59, 'temp_max': 11.59, 'pressure': 1015, 'sea_level': 1015, 'grnd_level': 1014, 'humidity': 60, 'temp_kf': 0}, 'weather': [{'id': 804, 'main': 'Clouds', 'description': 'overcast clouds', 'icon': '04d'}], 'clouds': {'all': 100}, 'wind': {'speed': 6.43, 'deg': 193, 'gust': 8.27}, 'visibility': 10000, 'pop': 0, 'sys': {'pod': 'd'}, 'dt_txt': '2023-05-01 12:00:00'}, {'dt': 1682953200, 'main': {'temp': 11.99, 'feels_like': 10.73, 'temp_min': 11.99, 'temp_max': 11.99, 'pressure': 1013, 'sea_level': 1013, 'grnd_level': 1012, 'humidity': 57, 'temp_kf': 0}, 'weather': [{'id': 804, 'main': 'Clouds', 'description': 'overcast clouds', 'icon': '04d'}], 'clouds': {'all': 100}, 'wind': {'speed': 5.62, 'deg': 202, 'gust': 7.67}, 'visibility': 10000, 'pop': 0, 'sys': {'pod': 'd'}, 'dt_txt': '2023-05-01 15:00:00'}, {'dt': 1682964000, 'main': {'temp': 10.87, 'feels_like': 9.81, 'temp_min': 10.87, 'temp_max': 10.87, 'pressure': 1012, 'sea_level': 1012, 'grnd_level': 1011, 'humidity': 69, 'temp_kf': 0}, 'weather': [{'id': 804, 'main': 'Clouds', 'description': 'overcast clouds', 'icon': '04d'}], 'clouds': {'all': 100}, 'wind': {'speed': 4.39, 'deg': 205, 'gust': 7.85}, 'visibility': 10000, 'pop': 0, 'sys': {'pod': 'd'}, 'dt_txt': '2023-05-01 18:00:00'}, {'dt': 1682974800, 'main': {'temp': 9.67, 'feels_like': 7.61, 'temp_min': 9.67, 'temp_max': 9.67, 'pressure': 1011, 'sea_level': 1011, 'grnd_level': 1010, 'humidity': 76, 'temp_kf': 0}, 'weather': [{'id': 804, 'main': 'Clouds', 'description': 'overcast clouds', 'icon': '04n'}], 'clouds': {'all': 100}, 'wind': {'speed': 3.96, 'deg': 228, 'gust': 8.06}, 'visibility': 10000, 'pop': 0.05, 'sys': {'pod': 'n'}, 'dt_txt': '2023-05-01 21:00:00'}, {'dt': 1682985600, 'main': {'temp': 9.53, 'feels_like': 7.64, 'temp_min': 9.53, 'temp_max': 9.53, 'pressure': 1010, 'sea_level': 1010, 'grnd_level': 1008, 'humidity': 83, 'temp_kf': 0}, 'weather': [{'id': 804, 'main': 'Clouds', 'description': 'overcast clouds', 'icon': '04n'}], 'clouds': {'all': 100}, 'wind': {'speed': 3.56, 'deg': 248, 'gust': 7.28}, 'visibility': 10000, 'pop': 0.25, 'sys': {'pod': 'n'}, 'dt_txt': '2023-05-02 00:00:00'}, {'dt': 1682996400, 'main': {'temp': 5.93, 'feels_like': 1.86, 'temp_min': 5.93, 'temp_max': 5.93, 'pressure': 1011, 'sea_level': 1011, 'grnd_level': 1009, 'humidity': 86, 'temp_kf': 0}, 'weather': [{'id': 500, 'main': 'Rain', 'description': 'light rain', 'icon': '10n'}], 'clouds': {'all': 100}, 'wind': {'speed': 6.58, 'deg': 299, 'gust': 9.83}, 'visibility': 10000, 'pop': 0.97, 'rain': {'3h': 1.09}, 'sys': {'pod': 'n'}, 'dt_txt': '2023-05-02 03:00:00'}, {'dt': 1683007200, 'main': {'temp': 5.89, 'feels_like': 1.63, 'temp_min': 5.89, 'temp_max': 5.89, 'pressure': 1012, 'sea_level': 1012, 'grnd_level': 1011, 'humidity': 68, 'temp_kf': 0}, 'weather': [{'id': 804, 'main': 'Clouds', 'description': 'overcast clouds', 'icon': '04d'}], 'clouds': {'all': 95}, 'wind': {'speed': 7.07, 'deg': 285, 'gust': 8.94}, 'visibility': 10000, 'pop': 0.73, 'sys': {'pod': 'd'}, 'dt_txt': '2023-05-02 06:00:00'}, {'dt': 1683018000, 'main': {'temp': 8.22, 'feels_like': 4.84, 'temp_min': 8.22, 'temp_max': 8.22, 'pressure': 1013, 'sea_level': 1013, 'grnd_level': 1012, 'humidity': 61, 'temp_kf': 0}, 'weather': [{'id': 800, 'main': 'Clear', 'description': 'clear sky', 'icon': '01d'}], 'clouds': {'all': 8}, 'wind': {'speed': 6.4, 'deg': 282, 'gust': 7.6}, 'visibility': 10000, 'pop': 0, 'sys': {'pod': 'd'}, 'dt_txt': '2023-05-02 09:00:00'}, {'dt': 1683028800, 'main': {'temp': 8.54, 'feels_like': 4.4, 'temp_min': 8.54, 'temp_max': 8.54, 'pressure': 1015, 'sea_level': 1015, 'grnd_level': 1014, 'humidity': 74, 'temp_kf': 0}, 'weather': [{'id': 500, 'main': 'Rain', 'description': 'light rain', 'icon': '10d'}], 'clouds': {'all': 37}, 'wind': {'speed': 9.46, 'deg': 326, 'gust': 10.86}, 'visibility': 10000, 'pop': 0.2, 'rain': {'3h': 0.3}, 'sys': {'pod': 'd'}, 'dt_txt': '2023-05-02 12:00:00'}], 'city': {'id': 2618425, 'name': 'Copenhagen', 'coord': {'lat': 55.6759, 'lon': 12.5655}, 'country': 'DK', 'population': 15000, 'timezone': 7200, 'sunrise': 1682825406, 'sunset': 1682880222}}\n"
     ]
    },
    {
     "ename": "KeyError",
     "evalue": "'main'",
     "output_type": "error",
     "traceback": [
      "\u001b[1;31m---------------------------------------------------------------------------\u001b[0m",
      "\u001b[1;31mKeyError\u001b[0m                                  Traceback (most recent call last)",
      "Cell \u001b[1;32mIn[1], line 5\u001b[0m\n\u001b[0;32m      2\u001b[0m \u001b[38;5;28;01mimport\u001b[39;00m \u001b[38;5;21;01mcredentials\u001b[39;00m\n\u001b[0;32m      4\u001b[0m weatherAPI \u001b[38;5;241m=\u001b[39m WeatherAPI(credentials\u001b[38;5;241m.\u001b[39mweather_API_key)\n\u001b[1;32m----> 5\u001b[0m \u001b[43mweatherAPI\u001b[49m\u001b[38;5;241;43m.\u001b[39;49m\u001b[43mupdate_data\u001b[49m\u001b[43m(\u001b[49m\u001b[43m)\u001b[49m\n\u001b[0;32m      7\u001b[0m \u001b[38;5;28mprint\u001b[39m(weatherAPI\u001b[38;5;241m.\u001b[39mcurrent_temperature)\n",
      "File \u001b[1;32m~\\Documents\\GitHub\\e-Paper\\scripts\\weather.py:53\u001b[0m, in \u001b[0;36mWeatherAPI.update_data\u001b[1;34m(self)\u001b[0m\n\u001b[0;32m     49\u001b[0m \u001b[38;5;28;01mif\u001b[39;00m \u001b[38;5;28mself\u001b[39m\u001b[38;5;241m.\u001b[39mx[\u001b[38;5;124m\"\u001b[39m\u001b[38;5;124mcod\u001b[39m\u001b[38;5;124m\"\u001b[39m] \u001b[38;5;241m!=\u001b[39m \u001b[38;5;124m\"\u001b[39m\u001b[38;5;124m404\u001b[39m\u001b[38;5;124m\"\u001b[39m:\n\u001b[0;32m     50\u001b[0m     \u001b[38;5;28mprint\u001b[39m(\u001b[38;5;28mself\u001b[39m\u001b[38;5;241m.\u001b[39mx)\n\u001b[1;32m---> 53\u001b[0m     \u001b[38;5;28mself\u001b[39m\u001b[38;5;241m.\u001b[39my \u001b[38;5;241m=\u001b[39m \u001b[38;5;28;43mself\u001b[39;49m\u001b[38;5;241;43m.\u001b[39;49m\u001b[43mx\u001b[49m\u001b[43m[\u001b[49m\u001b[38;5;124;43m\"\u001b[39;49m\u001b[38;5;124;43mmain\u001b[39;49m\u001b[38;5;124;43m\"\u001b[39;49m\u001b[43m]\u001b[49m\n\u001b[0;32m     54\u001b[0m     \u001b[38;5;28mself\u001b[39m\u001b[38;5;241m.\u001b[39mcurrent_temperature \u001b[38;5;241m=\u001b[39m \u001b[38;5;124m\"\u001b[39m\u001b[38;5;132;01m{:.1f}\u001b[39;00m\u001b[38;5;124m\"\u001b[39m\u001b[38;5;241m.\u001b[39mformat(\u001b[38;5;28mself\u001b[39m\u001b[38;5;241m.\u001b[39my[\u001b[38;5;124m\"\u001b[39m\u001b[38;5;124mtemp\u001b[39m\u001b[38;5;124m\"\u001b[39m])\n\u001b[0;32m     55\u001b[0m     \u001b[38;5;28mself\u001b[39m\u001b[38;5;241m.\u001b[39mcurrent_pressure \u001b[38;5;241m=\u001b[39m \u001b[38;5;28mself\u001b[39m\u001b[38;5;241m.\u001b[39my[\u001b[38;5;124m\"\u001b[39m\u001b[38;5;124mpressure\u001b[39m\u001b[38;5;124m\"\u001b[39m]\n",
      "\u001b[1;31mKeyError\u001b[0m: 'main'"
     ]
    }
   ],
   "source": [
    "from weather import WeatherAPI\n",
    "import credentials\n",
    "\n",
    "weatherAPI = WeatherAPI(credentials.weather_API_key)\n",
    "weatherAPI.update_data()\n",
    "\n",
    "print(weatherAPI.current_temperature)"
   ]
  },
  {
   "cell_type": "code",
   "execution_count": 24,
   "id": "f9d18c03",
   "metadata": {},
   "outputs": [
    {
     "name": "stdout",
     "output_type": "stream",
     "text": [
      "{'dt': 1682866800, 'main': {'temp': 10.89, 'feels_like': 9.29, 'temp_min': 9.87, 'temp_max': 10.89, 'pressure': 1023, 'sea_level': 1023, 'grnd_level': 1020, 'humidity': 48, 'temp_kf': 1.02}, 'weather': [{'id': 802, 'main': 'Clouds', 'description': 'scattered clouds', 'icon': '03d'}], 'clouds': {'all': 40}, 'wind': {'speed': 4.87, 'deg': 301, 'gust': 6.97}, 'visibility': 10000, 'pop': 0, 'sys': {'pod': 'd'}, 'dt_txt': '2023-04-30 15:00:00'}\n",
      "Weather : overcast clouds\n",
      "Temperature : 5.97 - 11.99\n"
     ]
    }
   ],
   "source": [
    "import datetime\n",
    "\n",
    "print(weatherAPI.returned_json['list'][0])\n",
    "tomorrow_day_of_month = (datetime.datetime.now() + datetime.timedelta(days=1)).strftime(\"%d\")\n",
    "\n",
    "def most_frequent(List):\n",
    "    return max(set(List), key = List.count)\n",
    "\n",
    "tomorrow_weathers = []\n",
    "tomorrow_temperatures = []\n",
    "\n",
    "for i in range(len(weatherAPI.returned_json['list'])):\n",
    "    if (weatherAPI.returned_json['list'][i]['dt_txt'][8:10] == tomorrow_day_of_month):\n",
    "        tomorrow_temperatures.append(weatherAPI.returned_json['list'][i]['main']['temp'])\n",
    "        tomorrow_weathers.append(weatherAPI.returned_json['list'][i]['weather'][0]['description'])\n",
    "        \n",
    "print('Weather : ' + most_frequent(tomorrow_weathers))\n",
    "print('Temperature : ' + str(min(tomorrow_temperatures)) + ' - ' + str(max(tomorrow_temperatures)))"
   ]
  },
  {
   "cell_type": "code",
   "execution_count": 1,
   "id": "06d37bad",
   "metadata": {},
   "outputs": [
    {
     "name": "stdout",
     "output_type": "stream",
     "text": [
      "{'cod': '200', 'message': 0, 'cnt': 16, 'list': [{'dt': 1682877600, 'main': {'temp': 10.18, 'feels_like': 8.53, 'temp_min': 8.98, 'temp_max': 10.18, 'pressure': 1022, 'sea_level': 1022, 'grnd_level': 1020, 'humidity': 49, 'temp_kf': 1.2}, 'weather': [{'id': 802, 'main': 'Clouds', 'description': 'scattered clouds', 'icon': '03d'}], 'clouds': {'all': 37}, 'wind': {'speed': 2.78, 'deg': 294, 'gust': 4.53}, 'visibility': 10000, 'pop': 0, 'sys': {'pod': 'd'}, 'dt_txt': '2023-04-30 18:00:00'}, {'dt': 1682888400, 'main': {'temp': 9.21, 'feels_like': 7.73, 'temp_min': 7.27, 'temp_max': 9.21, 'pressure': 1022, 'sea_level': 1022, 'grnd_level': 1020, 'humidity': 57, 'temp_kf': 1.94}, 'weather': [{'id': 803, 'main': 'Clouds', 'description': 'broken clouds', 'icon': '04n'}], 'clouds': {'all': 56}, 'wind': {'speed': 2.73, 'deg': 246, 'gust': 3.87}, 'visibility': 10000, 'pop': 0, 'sys': {'pod': 'n'}, 'dt_txt': '2023-04-30 21:00:00'}, {'dt': 1682899200, 'main': {'temp': 7.68, 'feels_like': 5.6, 'temp_min': 6.43, 'temp_max': 7.68, 'pressure': 1021, 'sea_level': 1021, 'grnd_level': 1019, 'humidity': 66, 'temp_kf': 1.25}, 'weather': [{'id': 803, 'main': 'Clouds', 'description': 'broken clouds', 'icon': '04n'}], 'clouds': {'all': 76}, 'wind': {'speed': 3.19, 'deg': 245, 'gust': 5.16}, 'visibility': 10000, 'pop': 0, 'sys': {'pod': 'n'}, 'dt_txt': '2023-05-01 00:00:00'}, {'dt': 1682910000, 'main': {'temp': 5.97, 'feels_like': 3.16, 'temp_min': 5.97, 'temp_max': 5.97, 'pressure': 1018, 'sea_level': 1018, 'grnd_level': 1017, 'humidity': 75, 'temp_kf': 0}, 'weather': [{'id': 804, 'main': 'Clouds', 'description': 'overcast clouds', 'icon': '04n'}], 'clouds': {'all': 97}, 'wind': {'speed': 3.81, 'deg': 222, 'gust': 7.43}, 'visibility': 10000, 'pop': 0, 'sys': {'pod': 'n'}, 'dt_txt': '2023-05-01 03:00:00'}, {'dt': 1682920800, 'main': {'temp': 7.83, 'feels_like': 4.56, 'temp_min': 7.83, 'temp_max': 7.83, 'pressure': 1018, 'sea_level': 1018, 'grnd_level': 1016, 'humidity': 76, 'temp_kf': 0}, 'weather': [{'id': 804, 'main': 'Clouds', 'description': 'overcast clouds', 'icon': '04d'}], 'clouds': {'all': 93}, 'wind': {'speed': 5.81, 'deg': 211, 'gust': 9.89}, 'visibility': 10000, 'pop': 0, 'sys': {'pod': 'd'}, 'dt_txt': '2023-05-01 06:00:00'}, {'dt': 1682931600, 'main': {'temp': 10.4, 'feels_like': 9.17, 'temp_min': 10.4, 'temp_max': 10.4, 'pressure': 1017, 'sea_level': 1017, 'grnd_level': 1015, 'humidity': 64, 'temp_kf': 0}, 'weather': [{'id': 804, 'main': 'Clouds', 'description': 'overcast clouds', 'icon': '04d'}], 'clouds': {'all': 100}, 'wind': {'speed': 5.79, 'deg': 204, 'gust': 8.02}, 'visibility': 10000, 'pop': 0, 'sys': {'pod': 'd'}, 'dt_txt': '2023-05-01 09:00:00'}, {'dt': 1682942400, 'main': {'temp': 11.59, 'feels_like': 10.37, 'temp_min': 11.59, 'temp_max': 11.59, 'pressure': 1015, 'sea_level': 1015, 'grnd_level': 1014, 'humidity': 60, 'temp_kf': 0}, 'weather': [{'id': 804, 'main': 'Clouds', 'description': 'overcast clouds', 'icon': '04d'}], 'clouds': {'all': 100}, 'wind': {'speed': 6.43, 'deg': 193, 'gust': 8.27}, 'visibility': 10000, 'pop': 0, 'sys': {'pod': 'd'}, 'dt_txt': '2023-05-01 12:00:00'}, {'dt': 1682953200, 'main': {'temp': 11.99, 'feels_like': 10.73, 'temp_min': 11.99, 'temp_max': 11.99, 'pressure': 1013, 'sea_level': 1013, 'grnd_level': 1012, 'humidity': 57, 'temp_kf': 0}, 'weather': [{'id': 804, 'main': 'Clouds', 'description': 'overcast clouds', 'icon': '04d'}], 'clouds': {'all': 100}, 'wind': {'speed': 5.62, 'deg': 202, 'gust': 7.67}, 'visibility': 10000, 'pop': 0, 'sys': {'pod': 'd'}, 'dt_txt': '2023-05-01 15:00:00'}, {'dt': 1682964000, 'main': {'temp': 10.87, 'feels_like': 9.81, 'temp_min': 10.87, 'temp_max': 10.87, 'pressure': 1012, 'sea_level': 1012, 'grnd_level': 1011, 'humidity': 69, 'temp_kf': 0}, 'weather': [{'id': 804, 'main': 'Clouds', 'description': 'overcast clouds', 'icon': '04d'}], 'clouds': {'all': 100}, 'wind': {'speed': 4.39, 'deg': 205, 'gust': 7.85}, 'visibility': 10000, 'pop': 0, 'sys': {'pod': 'd'}, 'dt_txt': '2023-05-01 18:00:00'}, {'dt': 1682974800, 'main': {'temp': 9.67, 'feels_like': 7.61, 'temp_min': 9.67, 'temp_max': 9.67, 'pressure': 1011, 'sea_level': 1011, 'grnd_level': 1010, 'humidity': 76, 'temp_kf': 0}, 'weather': [{'id': 804, 'main': 'Clouds', 'description': 'overcast clouds', 'icon': '04n'}], 'clouds': {'all': 100}, 'wind': {'speed': 3.96, 'deg': 228, 'gust': 8.06}, 'visibility': 10000, 'pop': 0.05, 'sys': {'pod': 'n'}, 'dt_txt': '2023-05-01 21:00:00'}, {'dt': 1682985600, 'main': {'temp': 9.53, 'feels_like': 7.64, 'temp_min': 9.53, 'temp_max': 9.53, 'pressure': 1010, 'sea_level': 1010, 'grnd_level': 1008, 'humidity': 83, 'temp_kf': 0}, 'weather': [{'id': 804, 'main': 'Clouds', 'description': 'overcast clouds', 'icon': '04n'}], 'clouds': {'all': 100}, 'wind': {'speed': 3.56, 'deg': 248, 'gust': 7.28}, 'visibility': 10000, 'pop': 0.25, 'sys': {'pod': 'n'}, 'dt_txt': '2023-05-02 00:00:00'}, {'dt': 1682996400, 'main': {'temp': 5.93, 'feels_like': 1.86, 'temp_min': 5.93, 'temp_max': 5.93, 'pressure': 1011, 'sea_level': 1011, 'grnd_level': 1009, 'humidity': 86, 'temp_kf': 0}, 'weather': [{'id': 500, 'main': 'Rain', 'description': 'light rain', 'icon': '10n'}], 'clouds': {'all': 100}, 'wind': {'speed': 6.58, 'deg': 299, 'gust': 9.83}, 'visibility': 10000, 'pop': 0.97, 'rain': {'3h': 1.09}, 'sys': {'pod': 'n'}, 'dt_txt': '2023-05-02 03:00:00'}, {'dt': 1683007200, 'main': {'temp': 5.89, 'feels_like': 1.63, 'temp_min': 5.89, 'temp_max': 5.89, 'pressure': 1012, 'sea_level': 1012, 'grnd_level': 1011, 'humidity': 68, 'temp_kf': 0}, 'weather': [{'id': 804, 'main': 'Clouds', 'description': 'overcast clouds', 'icon': '04d'}], 'clouds': {'all': 95}, 'wind': {'speed': 7.07, 'deg': 285, 'gust': 8.94}, 'visibility': 10000, 'pop': 0.73, 'sys': {'pod': 'd'}, 'dt_txt': '2023-05-02 06:00:00'}, {'dt': 1683018000, 'main': {'temp': 8.22, 'feels_like': 4.84, 'temp_min': 8.22, 'temp_max': 8.22, 'pressure': 1013, 'sea_level': 1013, 'grnd_level': 1012, 'humidity': 61, 'temp_kf': 0}, 'weather': [{'id': 800, 'main': 'Clear', 'description': 'clear sky', 'icon': '01d'}], 'clouds': {'all': 8}, 'wind': {'speed': 6.4, 'deg': 282, 'gust': 7.6}, 'visibility': 10000, 'pop': 0, 'sys': {'pod': 'd'}, 'dt_txt': '2023-05-02 09:00:00'}, {'dt': 1683028800, 'main': {'temp': 8.54, 'feels_like': 4.4, 'temp_min': 8.54, 'temp_max': 8.54, 'pressure': 1015, 'sea_level': 1015, 'grnd_level': 1014, 'humidity': 74, 'temp_kf': 0}, 'weather': [{'id': 500, 'main': 'Rain', 'description': 'light rain', 'icon': '10d'}], 'clouds': {'all': 37}, 'wind': {'speed': 9.46, 'deg': 326, 'gust': 10.86}, 'visibility': 10000, 'pop': 0.2, 'rain': {'3h': 0.3}, 'sys': {'pod': 'd'}, 'dt_txt': '2023-05-02 12:00:00'}, {'dt': 1683039600, 'main': {'temp': 8.3, 'feels_like': 4.46, 'temp_min': 8.3, 'temp_max': 8.3, 'pressure': 1019, 'sea_level': 1019, 'grnd_level': 1018, 'humidity': 63, 'temp_kf': 0}, 'weather': [{'id': 804, 'main': 'Clouds', 'description': 'overcast clouds', 'icon': '04d'}], 'clouds': {'all': 90}, 'wind': {'speed': 8, 'deg': 333, 'gust': 10.43}, 'visibility': 10000, 'pop': 0, 'sys': {'pod': 'd'}, 'dt_txt': '2023-05-02 15:00:00'}], 'city': {'id': 2618425, 'name': 'Copenhagen', 'coord': {'lat': 55.6759, 'lon': 12.5655}, 'country': 'DK', 'population': 15000, 'timezone': 7200, 'sunrise': 1682825406, 'sunset': 1682880222}}\n",
      "5.97\n"
     ]
    }
   ],
   "source": [
    "from weather import WeatherAPI\n",
    "import credentials\n",
    "\n",
    "weatherAPI = WeatherAPI(credentials.weather_API_key)\n",
    "weatherAPI.update_data()\n",
    "\n",
    "print(weatherAPI.tomorrow_min_temperature)"
   ]
  },
  {
   "cell_type": "code",
   "execution_count": 2,
   "id": "e7b42ad8",
   "metadata": {},
   "outputs": [
    {
     "name": "stdout",
     "output_type": "stream",
     "text": [
      "5.97\n",
      "5.97\n",
      "5.97\n"
     ]
    }
   ],
   "source": [
    "print(weatherAPI.tomorrow_min_temperature)\n",
    "print(weatherAPI.tomorrow_max_temperature)\n",
    "print(weatherAPI.tomorrow_weather_desc)\n",
    "print(weatherAPI.tomorrow_weather_icon)"
   ]
  }
 ],
 "metadata": {
  "kernelspec": {
   "display_name": "Python 3 (ipykernel)",
   "language": "python",
   "name": "python3"
  },
  "language_info": {
   "codemirror_mode": {
    "name": "ipython",
    "version": 3
   },
   "file_extension": ".py",
   "mimetype": "text/x-python",
   "name": "python",
   "nbconvert_exporter": "python",
   "pygments_lexer": "ipython3",
   "version": "3.10.8"
  }
 },
 "nbformat": 4,
 "nbformat_minor": 5
}
