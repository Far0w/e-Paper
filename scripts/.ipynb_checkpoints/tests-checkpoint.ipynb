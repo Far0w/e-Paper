{
 "cells": [
  {
   "cell_type": "code",
   "execution_count": 17,
   "id": "35f5de96",
   "metadata": {},
   "outputs": [
    {
     "name": "stdout",
     "output_type": "stream",
     "text": [
      "[13, 0]\n",
      "[18, 55]\n",
      "[15, 0]\n",
      "[18, 55]\n",
      "[18, 55]\n",
      "[18, 55]\n",
      "[19, 0]\n",
      "[18, 55]\n",
      "[18, 55]\n",
      "[18, 55]\n",
      "[['2023-01-29T13:00:00+01:00', 'Impôts questions B.O'], ['2023-02-21T18:55:00+01:00', 'Studieskolen'], ['2023-02-23T15:00:00+01:00', 'Rent'], ['2023-02-23T18:55:00+01:00', 'Studieskolen'], ['2023-02-28T18:55:00+01:00', 'Studieskolen'], ['2023-03-02T18:55:00+01:00', 'Studieskolen'], ['2023-03-02T19:00:00+01:00', 'Ambassade'], ['2023-03-07T18:55:00+01:00', 'Studieskolen'], ['2023-03-09T18:55:00+01:00', 'Studieskolen'], ['2023-03-14T18:55:00+01:00', 'Studieskolen']]\n"
     ]
    }
   ],
   "source": [
    "import pandas as pd\n",
    "from dateutil import parser\n",
    "\n",
    "def dateStringToDatetimeObject(originalString : str):\n",
    "    dateObject = parser.parse(originalString)\n",
    "    return dateObject\n",
    "\n",
    "url = 'https://docs.google.com/spreadsheets/d/e/2PACX-1vRJtzo9q4NS01XynS0s6ic1da7o8sENcO_QCBlt9UbrKw24ltaRj0cdAKcRCSoG3j4-QdSvMJnxBb_i/pub?output=csv'\n",
    "\n",
    "colnames = ['date','event']\n",
    "\n",
    "df = pd.read_csv(url, names=colnames)\n",
    "\n",
    "events = [ [parser.parse(df.iloc[i].date), df.iloc[i].event] for i in range(len(df))]\n",
    "print(events)\n",
    "\n"
   ]
  },
  {
   "cell_type": "code",
   "execution_count": null,
   "id": "e5e2ad21",
   "metadata": {},
   "outputs": [],
   "source": []
  }
 ],
 "metadata": {
  "kernelspec": {
   "display_name": "Python 3 (ipykernel)",
   "language": "python",
   "name": "python3"
  },
  "language_info": {
   "codemirror_mode": {
    "name": "ipython",
    "version": 3
   },
   "file_extension": ".py",
   "mimetype": "text/x-python",
   "name": "python",
   "nbconvert_exporter": "python",
   "pygments_lexer": "ipython3",
   "version": "3.10.8"
  }
 },
 "nbformat": 4,
 "nbformat_minor": 5
}
